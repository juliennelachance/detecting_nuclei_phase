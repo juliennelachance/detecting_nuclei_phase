{
 "cells": [
  {
   "cell_type": "markdown",
   "metadata": {},
   "source": [
    "# Code for creating test/train splits in different folders"
   ]
  },
  {
   "cell_type": "markdown",
   "metadata": {},
   "source": [
    "For clarity, I actually want to save the training and testing data in different folders. Let's do that. "
   ]
  },
  {
   "cell_type": "markdown",
   "metadata": {},
   "source": [
    "Imports: "
   ]
  },
  {
   "cell_type": "code",
   "execution_count": 46,
   "metadata": {
    "collapsed": true
   },
   "outputs": [],
   "source": [
    "import os\n",
    "import random\n",
    "from random import Random\n",
    "from random import shuffle\n",
    "from math import floor\n",
    "from shutil import copyfile\n"
   ]
  },
  {
   "cell_type": "markdown",
   "metadata": {},
   "source": [
    "## 1. Get a list of the files\n",
    "(thanks, https://stackoverflow.com/questions/42471570/how-to-split-documents-into-training-set-and-test-set)"
   ]
  },
  {
   "cell_type": "code",
   "execution_count": 47,
   "metadata": {},
   "outputs": [
    {
     "name": "stdout",
     "output_type": "stream",
     "text": [
      "12288\n",
      "12288\n",
      "['PHASE000001.png', 'PHASE000002.png', 'PHASE000003.png']\n",
      "['DAPI000001.png', 'DAPI000002.png', 'DAPI000003.png']\n"
     ]
    }
   ],
   "source": [
    "def get_file_list_from_dir(datadir):\n",
    "    all_files = os.listdir(os.path.abspath(datadir))\n",
    "    data_files = list(filter(lambda file: file.endswith('.png'), all_files))\n",
    "    return data_files\n",
    "\n",
    "phase_list = get_file_list_from_dir('./PHASE/')\n",
    "print(len(phase_list))\n",
    "\n",
    "dapi_list = get_file_list_from_dir('./DAPI/')\n",
    "print(len(dapi_list))\n",
    "\n",
    "phase_list = sorted(phase_list)\n",
    "dapi_list = sorted(dapi_list)\n",
    "\n",
    "print(phase_list[:3])\n",
    "print(dapi_list[:3])\n"
   ]
  },
  {
   "cell_type": "markdown",
   "metadata": {},
   "source": [
    "## 2. Randomize the files"
   ]
  },
  {
   "cell_type": "code",
   "execution_count": 48,
   "metadata": {},
   "outputs": [
    {
     "name": "stdout",
     "output_type": "stream",
     "text": [
      "['PHASE008950.png', 'PHASE005442.png', 'PHASE007077.png']\n",
      "['DAPI008950.png', 'DAPI005442.png', 'DAPI007077.png']\n"
     ]
    }
   ],
   "source": [
    "seed = 42\n",
    "random.Random(seed).shuffle(phase_list)\n",
    "random.Random(seed).shuffle(dapi_list)\n",
    "\n",
    "print(phase_list[:3])\n",
    "print(dapi_list[:3])"
   ]
  },
  {
   "cell_type": "markdown",
   "metadata": {},
   "source": [
    "## 3. Split into training and test sets "
   ]
  },
  {
   "cell_type": "code",
   "execution_count": 49,
   "metadata": {},
   "outputs": [
    {
     "name": "stdout",
     "output_type": "stream",
     "text": [
      "['PHASE008950.png', 'PHASE005442.png', 'PHASE007077.png']\n",
      "['PHASE000612.png', 'PHASE008768.png', 'PHASE011036.png']\n",
      "['DAPI008950.png', 'DAPI005442.png', 'DAPI007077.png']\n",
      "['DAPI000612.png', 'DAPI008768.png', 'DAPI011036.png']\n"
     ]
    }
   ],
   "source": [
    "def get_training_and_testing_sets(file_list):\n",
    "    split = 0.8\n",
    "    split_index = floor(len(file_list) * split)\n",
    "    training = file_list[:split_index]\n",
    "    testing = file_list[split_index:]\n",
    "    return training, testing\n",
    "\n",
    "phase_train, phase_test = get_training_and_testing_sets(phase_list)\n",
    "dapi_train, dapi_test = get_training_and_testing_sets(dapi_list)\n",
    "\n",
    "print(phase_train[:3])\n",
    "print(phase_test[:3])\n",
    "print(dapi_train[:3])\n",
    "print(dapi_test[:3])"
   ]
  },
  {
   "cell_type": "markdown",
   "metadata": {},
   "source": [
    "## 4. Find these files and save them into their own directories"
   ]
  },
  {
   "cell_type": "code",
   "execution_count": null,
   "metadata": {},
   "outputs": [],
   "source": []
  },
  {
   "cell_type": "code",
   "execution_count": 50,
   "metadata": {},
   "outputs": [],
   "source": [
    "def get_and_copy_files(file_list, old_dir, new_dir):\n",
    "    for x in file_list:\n",
    "        src = old_dir + x\n",
    "        dst = new_dir + x\n",
    "        copyfile(src, dst)\n",
    "\n",
    "\n",
    "get_and_copy_files(phase_train, './PHASE/', './Training/PHASE/')\n",
    "get_and_copy_files(phase_test, './PHASE/', './Testing/PHASE/')\n",
    "get_and_copy_files(dapi_train, './DAPI/', './Training/DAPI/')\n",
    "get_and_copy_files(dapi_test, './DAPI/', './Testing/DAPI/')\n",
    "\n",
    "\n"
   ]
  },
  {
   "cell_type": "code",
   "execution_count": null,
   "metadata": {
    "collapsed": true
   },
   "outputs": [],
   "source": []
  },
  {
   "cell_type": "code",
   "execution_count": null,
   "metadata": {
    "collapsed": true
   },
   "outputs": [],
   "source": []
  },
  {
   "cell_type": "code",
   "execution_count": null,
   "metadata": {
    "collapsed": true
   },
   "outputs": [],
   "source": []
  },
  {
   "cell_type": "code",
   "execution_count": null,
   "metadata": {
    "collapsed": true
   },
   "outputs": [],
   "source": []
  },
  {
   "cell_type": "code",
   "execution_count": null,
   "metadata": {
    "collapsed": true
   },
   "outputs": [],
   "source": []
  },
  {
   "cell_type": "code",
   "execution_count": null,
   "metadata": {
    "collapsed": true
   },
   "outputs": [],
   "source": []
  },
  {
   "cell_type": "code",
   "execution_count": null,
   "metadata": {
    "collapsed": true
   },
   "outputs": [],
   "source": []
  }
 ],
 "metadata": {
  "kernelspec": {
   "display_name": "Python 3",
   "language": "python",
   "name": "python3"
  },
  "language_info": {
   "codemirror_mode": {
    "name": "ipython",
    "version": 3
   },
   "file_extension": ".py",
   "mimetype": "text/x-python",
   "name": "python",
   "nbconvert_exporter": "python",
   "pygments_lexer": "ipython3",
   "version": "3.6.3"
  }
 },
 "nbformat": 4,
 "nbformat_minor": 2
}
